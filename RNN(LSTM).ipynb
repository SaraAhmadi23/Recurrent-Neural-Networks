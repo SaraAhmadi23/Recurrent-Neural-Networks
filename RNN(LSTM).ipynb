{
 "cells": [
  {
   "cell_type": "code",
   "execution_count": 1,
   "id": "769aa9be",
   "metadata": {},
   "outputs": [],
   "source": [
    "# Install the required packages\n",
    "\n",
    "# !pip install torch torchvision torchaudio tensorflow tensorflow-datasets --extra-index-url https://download.pytorch.org/whl/cu113"
   ]
  },
  {
   "cell_type": "markdown",
   "id": "496ec46a",
   "metadata": {},
   "source": [
    "## Step 1: Load the IMDb Dataset"
   ]
  },
  {
   "cell_type": "code",
   "execution_count": 2,
   "id": "186fa49f",
   "metadata": {
    "scrolled": false
   },
   "outputs": [
    {
     "name": "stderr",
     "output_type": "stream",
     "text": [
      "2024-04-09 18:31:42.443257: I tensorflow/core/platform/cpu_feature_guard.cc:210] This TensorFlow binary is optimized to use available CPU instructions in performance-critical operations.\n",
      "To enable the following instructions: AVX2 FMA, in other operations, rebuild TensorFlow with the appropriate compiler flags.\n"
     ]
    }
   ],
   "source": [
    "import tensorflow_datasets as tfds\n",
    "import numpy as np\n",
    "\n",
    "imdb, info = tfds.load('imdb_reviews', with_info=True, as_supervised=True)\n",
    "\n",
    "train_data, test_data = imdb['train'], imdb['test']"
   ]
  },
  {
   "cell_type": "markdown",
   "id": "a71a0ab6",
   "metadata": {},
   "source": [
    "## Step 2: Preprocess the Data"
   ]
  },
  {
   "cell_type": "code",
   "execution_count": 3,
   "id": "2542bbe0",
   "metadata": {},
   "outputs": [
    {
     "name": "stderr",
     "output_type": "stream",
     "text": [
      "2024-04-09 18:31:51.239768: W tensorflow/core/framework/local_rendezvous.cc:404] Local rendezvous is aborting with status: OUT_OF_RANGE: End of sequence\n",
      "2024-04-09 18:31:57.835226: W tensorflow/core/framework/local_rendezvous.cc:404] Local rendezvous is aborting with status: OUT_OF_RANGE: End of sequence\n",
      "2024-04-09 18:32:03.495022: W tensorflow/core/framework/local_rendezvous.cc:404] Local rendezvous is aborting with status: OUT_OF_RANGE: End of sequence\n",
      "2024-04-09 18:32:07.752403: W tensorflow/core/framework/local_rendezvous.cc:404] Local rendezvous is aborting with status: OUT_OF_RANGE: End of sequence\n",
      "2024-04-09 18:32:13.489403: W tensorflow/core/framework/local_rendezvous.cc:404] Local rendezvous is aborting with status: OUT_OF_RANGE: End of sequence\n"
     ]
    }
   ],
   "source": [
    "from tensorflow.keras.preprocessing.text import Tokenizer\n",
    "from tensorflow.keras.preprocessing.sequence import pad_sequences\n",
    "\n",
    "\n",
    "tokenizer = Tokenizer(num_words=10000, oov_token=\"<OOV>\")\n",
    "\n",
    "tokenizer.fit_on_texts([text.numpy().decode('utf8') for text, label in train_data])\n",
    "\n",
    "\n",
    "def convert_to_padded_sequences(dataset):\n",
    "    sequences = tokenizer.texts_to_sequences([text.numpy().decode('utf8') for text, label in dataset])\n",
    "    padded_sequences = pad_sequences(sequences, maxlen=120, truncating='post', padding='post')\n",
    "    labels = np.array([label.numpy() for text, label in dataset])\n",
    "    return padded_sequences, labels\n",
    "\n",
    "train_sequences, train_labels = convert_to_padded_sequences(train_data)\n",
    "test_sequences, test_labels = convert_to_padded_sequences(test_data)"
   ]
  },
  {
   "cell_type": "markdown",
   "id": "c0ef4441",
   "metadata": {},
   "source": [
    "## Step 3: Create PyTorch Data Loaders"
   ]
  },
  {
   "cell_type": "code",
   "execution_count": 4,
   "id": "d93e6e6a",
   "metadata": {},
   "outputs": [],
   "source": [
    "import torch\n",
    "from torch.utils.data import TensorDataset, DataLoader\n",
    "\n",
    "\n",
    "train_data = TensorDataset(torch.from_numpy(train_sequences).long(), torch.from_numpy(train_labels).long())\n",
    "test_data = TensorDataset(torch.from_numpy(test_sequences).long(), torch.from_numpy(test_labels).long())\n",
    "\n",
    "\n",
    "batch_size = 32\n",
    "\n",
    "train_loader = DataLoader(train_data, shuffle=True, batch_size=batch_size)\n",
    "test_loader = DataLoader(test_data, shuffle=False, batch_size=batch_size)"
   ]
  },
  {
   "cell_type": "markdown",
   "id": "2c111d83",
   "metadata": {},
   "source": [
    "## Step 4: Define the RNN Model\n",
    "First, we'll define the RNN model class. PyTorch makes this straightforward with its nn.Module class."
   ]
  },
  {
   "cell_type": "code",
   "execution_count": 5,
   "id": "c9b78944",
   "metadata": {},
   "outputs": [],
   "source": [
    "import torch\n",
    "import torch.nn as nn\n",
    "\n",
    "class SentimentRNN(nn.Module):\n",
    "    def __init__(self, vocab_size, output_size, embedding_dim, hidden_dim, n_layers, drop_prob=0.5):\n",
    "        super(SentimentRNN, self).__init__()\n",
    "        self.output_size = output_size\n",
    "        self.n_layers = n_layers\n",
    "        self.hidden_dim = hidden_dim\n",
    "        \n",
    "        self.embedding = nn.Embedding(vocab_size, embedding_dim)\n",
    "        self.lstm = nn.LSTM(embedding_dim, hidden_dim, n_layers, dropout=drop_prob, batch_first=True)\n",
    "        self.dropout = nn.Dropout(drop_prob)\n",
    "        self.fc = nn.Linear(hidden_dim, output_size)\n",
    "        self.sig = nn.Sigmoid()\n",
    "    \n",
    "    def forward(self, x, hidden=None):\n",
    "        if hidden is None:\n",
    "            hidden = self.init_hidden(x.size(0))\n",
    "        \n",
    "        x = x.long()\n",
    "        embeds = self.embedding(x)\n",
    "        lstm_out, hidden = self.lstm(embeds, hidden)\n",
    "        \n",
    "        lstm_out = lstm_out.contiguous().view(-1, self.hidden_dim)\n",
    "        \n",
    "        out = self.dropout(lstm_out)\n",
    "        out = self.fc(out)\n",
    "        sig_out = self.sig(out)\n",
    "        \n",
    "        sig_out = sig_out.view(x.size(0), -1)\n",
    "        sig_out = sig_out[:, -1]  \n",
    "        return sig_out  \n",
    "    \n",
    "    def init_hidden(self, batch_size):\n",
    "        weight = next(self.parameters()).data\n",
    "        hidden = (weight.new(self.n_layers, batch_size, self.hidden_dim).zero_(),\n",
    "                  weight.new(self.n_layers, batch_size, self.hidden_dim).zero_())\n",
    "        return hidden\n"
   ]
  },
  {
   "cell_type": "markdown",
   "id": "bc3304bc",
   "metadata": {},
   "source": [
    "## Step 5: Instantiate the Model\n",
    "Now, we'll instantiate the RNN model with the necessary parameters."
   ]
  },
  {
   "cell_type": "code",
   "execution_count": 6,
   "id": "6546a684",
   "metadata": {},
   "outputs": [],
   "source": [
    "vocab_size = 10000 + 1\n",
    "output_size = 1\n",
    "embedding_dim = 400\n",
    "hidden_dim = 256 \n",
    "n_layers = 2\n",
    "model = SentimentRNN(vocab_size=vocab_size, output_size=output_size, embedding_dim=embedding_dim, hidden_dim=hidden_dim, n_layers=n_layers)"
   ]
  },
  {
   "cell_type": "markdown",
   "id": "703663d3",
   "metadata": {},
   "source": [
    "## Step 6: Training Setup\n",
    "Before training the model, we define the loss function and the optimizer."
   ]
  },
  {
   "cell_type": "code",
   "execution_count": 7,
   "id": "e9a3b615",
   "metadata": {},
   "outputs": [],
   "source": [
    "lr=0.001\n",
    "criterion = nn.BCELoss()\n",
    "optimizer = torch.optim.Adam(model.parameters(), lr=lr)"
   ]
  },
  {
   "cell_type": "markdown",
   "id": "5333c195",
   "metadata": {},
   "source": [
    "## Step 7: Training the Model\n",
    "This step involves iterating over our training data, performing the forward pass, calculating the loss, and then updating our model parameters (weights)."
   ]
  },
  {
   "cell_type": "code",
   "execution_count": 8,
   "id": "850f97db",
   "metadata": {},
   "outputs": [
    {
     "name": "stdout",
     "output_type": "stream",
     "text": [
      "Epoch: 1/4... Loss: 0.6760882139205933\n",
      "Epoch: 2/4... Loss: 0.4003819227218628\n",
      "Epoch: 3/4... Loss: 0.3395270109176636\n",
      "Epoch: 4/4... Loss: 0.3052422106266022\n"
     ]
    }
   ],
   "source": [
    "epochs = 4\n",
    "clip = 5\n",
    "\n",
    "for epoch in range(epochs):\n",
    "    for inputs, labels in train_loader:\n",
    "        current_batch_size = inputs.size(0)\n",
    "        h = model.init_hidden(current_batch_size)\n",
    "        \n",
    "        h = tuple([each.data for each in h])  # Detach hidden state from its history\n",
    "        inputs, labels = inputs.to(next(model.parameters()).device), labels.to(next(model.parameters()).device)\n",
    "        \n",
    "        model.zero_grad()\n",
    "        \n",
    "        output = model(inputs, h)\n",
    "        \n",
    "        loss = criterion(output.squeeze(), labels.float())\n",
    "        loss.backward()\n",
    "        \n",
    "        nn.utils.clip_grad_norm_(model.parameters(), clip)\n",
    "        optimizer.step()\n",
    "        \n",
    "    print(f'Epoch: {epoch+1}/{epochs}... Loss: {loss.item()}')\n"
   ]
  },
  {
   "cell_type": "markdown",
   "id": "3abaaa81",
   "metadata": {},
   "source": [
    "## Step 8: Evaluating the Model\n",
    "After training, we'll want to evaluate the performance of our model on the test set. This step involves running our model in inference mode (model.eval()) to make predictions, and then comparing these predictions against the actual labels to compute accuracy or other relevant metrics."
   ]
  },
  {
   "cell_type": "code",
   "execution_count": 9,
   "id": "07eb9615",
   "metadata": {},
   "outputs": [
    {
     "name": "stdout",
     "output_type": "stream",
     "text": [
      "Test loss: 0.410\n",
      "Test accuracy: 81.788%\n"
     ]
    }
   ],
   "source": [
    "model.eval()\n",
    "\n",
    "test_losses = []\n",
    "num_correct = 0\n",
    "predictions = []\n",
    "actuals = []\n",
    "\n",
    "with torch.no_grad():\n",
    "    for inputs, labels in test_loader:\n",
    "        current_batch_size = inputs.size(0)\n",
    "        h = model.init_hidden(current_batch_size)\n",
    "\n",
    "        inputs, labels = inputs.to(next(model.parameters()).device), labels.to(next(model.parameters()).device)\n",
    "\n",
    "        output = model(inputs, h)  \n",
    "        \n",
    "        test_loss = criterion(output.squeeze(), labels.float())\n",
    "        test_losses.append(test_loss.item())\n",
    "\n",
    "        pred = torch.round(output.squeeze())  \n",
    "        correct_tensor = pred.eq(labels.float().view_as(pred))\n",
    "        correct = np.squeeze(correct_tensor.cpu().numpy()) \n",
    "        num_correct += np.sum(correct)\n",
    "        \n",
    "        probs = torch.sigmoid(output).cpu().numpy()  \n",
    "        batch_predictions = [1 if prob > 0.5 else 0 for prob in probs]\n",
    "        predictions.extend(batch_predictions)\n",
    "        actuals.extend(labels.cpu().numpy()) \n",
    "\n",
    "print(\"Test loss: {:.3f}\".format(np.mean(test_losses)))\n",
    "test_acc = num_correct / len(test_loader.dataset)\n",
    "print(f\"Test accuracy: {test_acc*100:.3f}%\")\n"
   ]
  },
  {
   "cell_type": "markdown",
   "id": "146aba3b",
   "metadata": {},
   "source": [
    "## Step 9: Model Performance Metrics\n",
    "Begin by summarizing the performance of our model using metrics such as accuracy, precision, recall, and F1-score. These metrics will give us a broad view of how well our model is performing."
   ]
  },
  {
   "cell_type": "code",
   "execution_count": 10,
   "id": "80dbf146",
   "metadata": {},
   "outputs": [
    {
     "name": "stdout",
     "output_type": "stream",
     "text": [
      "Accuracy: 0.5000\n",
      "Precision: 0.5000\n",
      "Recall: 1.0000\n",
      "F1-Score: 0.6667\n"
     ]
    }
   ],
   "source": [
    "from sklearn.metrics import accuracy_score, precision_recall_fscore_support\n",
    "\n",
    "accuracy = accuracy_score(actuals, predictions)\n",
    "precision, recall, f1, _ = precision_recall_fscore_support(actuals, predictions, average='binary')\n",
    "\n",
    "print(f\"Accuracy: {accuracy:.4f}\")\n",
    "print(f\"Precision: {precision:.4f}\")\n",
    "print(f\"Recall: {recall:.4f}\")\n",
    "print(f\"F1-Score: {f1:.4f}\")"
   ]
  },
  {
   "cell_type": "markdown",
   "id": "0f286c02",
   "metadata": {},
   "source": [
    "## Step 10: Error Analysis\n",
    "Next,we perform an error analysis by examining instances where our model made incorrect predictions. This can help identify patterns in the data that our model is struggling with."
   ]
  },
  {
   "cell_type": "code",
   "execution_count": 12,
   "id": "0cf966d9",
   "metadata": {},
   "outputs": [],
   "source": [
    "test_texts = []\n",
    "test_labels = []\n",
    "\n",
    "for text, label in test_data:\n",
    "    test_texts.append(text.numpy())\n",
    "    test_labels.append(label.numpy())\n",
    "\n"
   ]
  },
  {
   "cell_type": "code",
   "execution_count": 13,
   "id": "be4a4372",
   "metadata": {
    "scrolled": true
   },
   "outputs": [
    {
     "name": "stdout",
     "output_type": "stream",
     "text": [
      "Indices of incorrect predictions: [    2     3     8 ... 24991 24995 24997]\n",
      "Review: [ 627   18  298  468 1709   18 1305   18  909    2    1   22  158 1626\n",
      "   18    3  158  993   18  229 3767   18    2    1    9    4  199   13\n",
      "  684    1 2256    2 2108  510  148  635  972   10   11   26    4 1792\n",
      " 1462   16 2233  139   15 4612    3    2 1296 1055   19   23  122  872\n",
      "    1    4 3143   36   76   52   23   68   65    2 1986    4 3676  123\n",
      "    9  190    2   62  153   13  236   64    1   23   81  168    6   65\n",
      "   12 1688    7    2  964  161   19 2566 2220   44 2812    1    8    8\n",
      "   23   68  374   27  736    2  276    1   13   40   27    1    6  138\n",
      "  178   17    2 1693   38    4   50    1]\n",
      "Predicted: Positive, Actual: Negative\n",
      "\n",
      "Review: [ 337 4407    1  495  252    6 6266   47    1    6   12    1 3288 4967\n",
      "  233   50   18   19  439    1   32    2  519  243 6555    5    4   20\n",
      "  196   22    2  220  225 9451    9  633    8    8   12   14  524   32\n",
      " 3381    1  120   27   26    4    1  235   73  234  555   37   88    1\n",
      "   68   79 1131  451    1   17  210   15    1   32  592 1010   36   11\n",
      "   90  122   49  572    6   88  131   12    7    2  241    5   18   13\n",
      "  150  179    6 1774   13  111    7 5902    3    1    3   13 3156    1\n",
      " 4159  188 4029   34  236   28  236   95   16    4  325 2726  322   19\n",
      "  214  638   15 1254 4940   45    2   82]\n",
      "Predicted: Positive, Actual: Negative\n",
      "\n",
      "Review: [  15  194   15   23  399    9  328   13    2  363    5   12   18   14\n",
      "    4    1    1    3   22 1438   15    4  620  764   10    7  163 1764\n",
      "   87   22  425  525   10    7   11   58  421    2  754  226    8    8\n",
      "    3   45  124    4  507 3784   44   16    4 2201   32 5209   40 1947\n",
      "    3    2 3171    1   12    7   10  104   12   17    4  760    5 1390\n",
      " 1997 1567    1    3  333    9   16    4   50   56   26    4    1    1\n",
      "   54   47 1054    1    3  356    8    8    5  262    1    4 1037 3447\n",
      " 2644    4    1   40    1   10   15    1   19   45  333  131   21    2\n",
      "  898   93  333   89 1327    1  193    6]\n",
      "Predicted: Positive, Actual: Negative\n",
      "\n",
      "Review: [ 635  200   10    4  105   86   10   46    4  174    5  226  897   10\n",
      "   60   28    4   29    8    8   11  217   12   18   16    2   84   56\n",
      " 4498    3   43    2   84 1316  429  205  108   11   14 1015    1  126\n",
      "  668    1  557   12    7    2  116    5    2 1316  100   45  196  281\n",
      "   11    1 1411    6   65    2  406    2  116  153   42   12   18    7\n",
      "   13   10   46    4  174    5  688    9    2   84  318   19  196 6449\n",
      "   44   32   62   29  363  609   17 1103    9    2  434   18    8    8\n",
      "   11  159   38    2   18 1084  438  883 7080  383  638   30   13   71\n",
      "   66  103 1171   53 1218    2   18   14]\n",
      "Predicted: Positive, Actual: Negative\n",
      "\n",
      "Review: [  11  241    5   38    1    1   36   11   14 1998    8    8   19  147\n",
      "    4  342  363   17 1839    1  367    3  221   17    4  540  368    3\n",
      "    4  479  231   41  216   50   20  229    8    8  485  456  114    3\n",
      "  800    7 4372   31  116   19   11 1829  141  318    5   10    3  136\n",
      "    8    8   12   20  407  402 2690    5   49   22    6   79   10    7\n",
      "    4   20    1  923    5   49    6  796   31  173  866    5    2 1769\n",
      "    1   10   81   20  393    1   30  118    2 8056    8    8   36    1\n",
      "    1  148   11  122 9861    7   16  145 1201   23 2813  265    6 1172\n",
      "   33  732 2763    0    0    0    0    0]\n",
      "Predicted: Positive, Actual: Negative\n",
      "\n"
     ]
    }
   ],
   "source": [
    "incorrects = np.where(np.array(predictions) != np.array(actuals))[0]\n",
    "print(\"Indices of incorrect predictions:\", incorrects)\n",
    "\n",
    "for index in incorrects[:5]:  # Just look at the first 5 for brevity\n",
    "    print(f\"Review: {test_texts[index]}\")\n",
    "    print(f\"Predicted: {'Positive' if predictions[index] else 'Negative'}, Actual: {'Positive' if test_labels[index] else 'Negative'}\\n\")\n"
   ]
  },
  {
   "cell_type": "markdown",
   "id": "dfc9b0be",
   "metadata": {},
   "source": [
    "## Step 11: Model Interpretation\n",
    "Consider using libraries like captum for PyTorch to interpret our model's predictions. This can provide insights into which parts of the input data our model is focusing on when making predictions."
   ]
  },
  {
   "cell_type": "code",
   "execution_count": 14,
   "id": "1d1bbf0e",
   "metadata": {},
   "outputs": [],
   "source": [
    "def model_wrapper(input_tensor):\n",
    "    batch_size = input_tensor.size(0)  # Assuming input_tensor is batched\n",
    "    hidden = model.init_hidden(batch_size)\n",
    "    \n",
    "    hidden = tuple(h.to(input_tensor.device) for h in hidden)\n",
    "    \n",
    "    output, _ = model(input_tensor)\n",
    "    return output"
   ]
  },
  {
   "cell_type": "code",
   "execution_count": 15,
   "id": "f951cee2",
   "metadata": {
    "scrolled": false
   },
   "outputs": [
    {
     "data": {
      "image/png": "[encoded data removed]",
      "text/plain": [
       "<Figure size 1200x600 with 1 Axes>"
      ]
     },
     "metadata": {},
     "output_type": "display_data"
    }
   ],
   "source": [
    "import torch\n",
    "import matplotlib.pyplot as plt\n",
    "\n",
    "def manual_feature_ablation(model, input_tensor, baseline_value=0):\n",
    "    model.eval()\n",
    "    \n",
    "    original_pred = model(input_tensor)\n",
    "    \n",
    "    feature_impacts = []\n",
    "    for i in range(input_tensor.size(1)):  \n",
    "        ablated_input = input_tensor.clone()\n",
    "        ablated_input[:, i] = baseline_value  \n",
    "        \n",
    "        ablated_pred = model(ablated_input)\n",
    "        \n",
    "        change_in_pred = (original_pred - ablated_pred).abs()\n",
    "        \n",
    "        feature_impacts.append(change_in_pred.item())\n",
    "    \n",
    "    return feature_impacts\n",
    "\n",
    "input_tensor = torch.tensor(test_sequences[0:1]).long()\n",
    "input_tensor = input_tensor.to(next(model.parameters()).device)\n",
    "\n",
    "feature_impacts = manual_feature_ablation(model, input_tensor)\n",
    "\n",
    "plt.figure(figsize=(12, 6))\n",
    "plt.plot(feature_impacts, marker='o', linestyle='-', color='b')\n",
    "plt.title('Impact of Each Feature on Model Prediction')\n",
    "plt.xlabel('Feature Index')\n",
    "plt.ylabel('Impact (Change in Prediction)')\n",
    "plt.grid(True)\n",
    "plt.show()\n"
   ]
  }
 ],
 "metadata": {
  "kernelspec": {
   "display_name": "Python 3 (ipykernel)",
   "language": "python",
   "name": "python3"
  },
  "language_info": {
   "codemirror_mode": {
    "name": "ipython",
    "version": 3
   },
   "file_extension": ".py",
   "mimetype": "text/x-python",
   "name": "python",
   "nbconvert_exporter": "python",
   "pygments_lexer": "ipython3",
   "version": "3.11.5"
  }
 },
 "nbformat": 4,
 "nbformat_minor": 5
}
